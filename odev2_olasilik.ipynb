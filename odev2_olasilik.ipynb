{
 "cells": [
  {
   "cell_type": "markdown",
   "metadata": {},
   "source": [
    "### A şirketinin sattığı bilgisayarın bazılarının bozuk olduğu tespit edilmiştir. Bilgisyar üreten 3 şirket (A, B ve C) olduğunu varsayımı altında, bu şirketlerin bilgisayar üretim miktarı ve bozuk üretim olasılıkları şu şekildedir:Toplam Üretim Yüzdesi P(A)=0.40 P(B)=0.40 P(C)=0.20 Hatalı Üretim Olasılığı P(D|A)=0.015 P(D|B)=0.020 P(D|C)=0.010 Rastgele seçilen bir bozuk bir bilgisayarın B şirketi tarafından üretilme olasılığı nedir?"
   ]
  },
  {
   "cell_type": "code",
   "execution_count": 1,
   "metadata": {},
   "outputs": [
    {
     "name": "stdout",
     "output_type": "stream",
     "text": [
      "Seçilen bir bilgisayarın hatalı olduğu bilindiğinde B firmasının üretmiş olma olasılığı: 0.17777777777777778\n"
     ]
    }
   ],
   "source": [
    "#A: A şirketinin bilgisayar üretim oranı\n",
    "#B: B şirketinin bilgisayar üretim oranı\n",
    "#C: C şirketinin bilgisayar üretim oranı\n",
    "#DA: A şirketinin hatalı bilgisayar üretim oranı\n",
    "#DB: B şirketinin hatalı bilgisayar üretim oranı\n",
    "#DC : C şirketinin hatalı bilgisayar üretim oranı\n",
    "#PD : toplam hatalı bilgisayar üretme olasılığı \n",
    "#BD :Seçilen bilgisayarın hatalı olduğu bilindiğinde B şirketinin üretmiş olma olasılığı\n",
    "A=.40\n",
    "B=0.40\n",
    "C=0.20\n",
    "DA=0.015\n",
    "DB=0.020\n",
    "DC=0.010\n",
    "PD=0.045\n",
    "#Koşullu olasılık fonksiyonlarını kullanarak:\n",
    "BD=(DB*B)/PD\n",
    "print(\"Seçilen bir bilgisayarın hatalı olduğu bilindiğinde B firmasının üretmiş olma olasılığı:\",BD)"
   ]
  },
  {
   "cell_type": "code",
   "execution_count": null,
   "metadata": {},
   "outputs": [],
   "source": []
  }
 ],
 "metadata": {
  "kernelspec": {
   "display_name": "Python 3",
   "language": "python",
   "name": "python3"
  },
  "language_info": {
   "codemirror_mode": {
    "name": "ipython",
    "version": 3
   },
   "file_extension": ".py",
   "mimetype": "text/x-python",
   "name": "python",
   "nbconvert_exporter": "python",
   "pygments_lexer": "ipython3",
   "version": "3.7.1"
  }
 },
 "nbformat": 4,
 "nbformat_minor": 2
}
