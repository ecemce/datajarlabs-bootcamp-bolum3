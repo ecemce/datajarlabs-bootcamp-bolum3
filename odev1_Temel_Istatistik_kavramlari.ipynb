{
 "cells": [
  {
   "cell_type": "markdown",
   "metadata": {},
   "source": [
    "### numpy kütüphanesini kullanarak üreteceğiniz 3 farklı veri aracılığı ile merkezi eğilim ve dağılım ölçümlerini hem yukarıda verilen matematiksel formülle hem de python'da hazır bulunan (built-in) kodlar aracılığıyla analiz edin"
   ]
  },
  {
   "cell_type": "code",
   "execution_count": 6,
   "metadata": {},
   "outputs": [
    {
     "name": "stdout",
     "output_type": "stream",
     "text": [
      "Güz notlarımın ortalaması: 62.9\n",
      "Bahar notlarımın beklenen standart sapması: 15.685327473196223\n",
      "İyi ve kötü koşullar altında mezun olacağım ortalamanın varyansı: 2.1741099192418827\n",
      "mod: 0    27\n",
      "1    40\n",
      "2    55\n",
      "3    56\n",
      "4    61\n",
      "5    65\n",
      "6    68\n",
      "7    80\n",
      "8    82\n",
      "9    95\n",
      "dtype: int64\n",
      "Ülkelerin 2017 mutluluk oranlarının ortalaması: 5.354019355773926\n",
      "5.354019355773926\n",
      "Ülkelerin genel mutlluluk oranı: 7.537000179290769\n"
     ]
    }
   ],
   "source": [
    "import pandas as pd\n",
    "import numpy as np\n",
    "\n",
    "not_data=pd.DataFrame()\n",
    "not_data[\"güz\"]=[95,27,56,61,40,80,55,65,82,68]\n",
    "not_data[\"bahar\"]=np.append(np.random.normal(75,20,5) , np.random.normal(55,20,5))\n",
    "not_data[\"graduate\"]=np.append(np.random.normal(3,1,5) , np.random.normal(2,1,5))\n",
    "print(\"Güz notlarımın ortalaması:\" ,not_data.güz.mean())\n",
    "print(\"Bahar notlarımın beklenen standart sapması:\" , not_data.bahar.std())\n",
    "print(\"İyi ve kötü koşullar altında mezun olacağım ortalamanın varyansı:\" , not_data.graduate.var())\n",
    "print(\"mod:\" , not_data[\"güz\"].mode())\n",
    "\n",
    "df=pd.read_csv(\"mutluluk.csv\")\n",
    "print(\"Ülkelerin 2017 mutluluk oranlarının ortalaması:\" , df[\"Happiness.Score\"].mean())\n",
    "print(sum(df[\"Happiness.Score\"])/len(df[\"Happiness.Score\"]))\n",
    "\n",
    "max_happiness=df[\"Happiness.Score\"].max()\n",
    "\n",
    "##Herkes çok mutlu olsun isteriz.\n",
    "df[\"Happiness.Score\"].fillna(max_happiness)\n",
    "print(\"Ülkelerin genel mutlluluk oranı: {}\".format(max_happiness))\n",
    "\n"
   ]
  },
  {
   "cell_type": "code",
   "execution_count": null,
   "metadata": {},
   "outputs": [],
   "source": []
  }
 ],
 "metadata": {
  "kernelspec": {
   "display_name": "Python 3",
   "language": "python",
   "name": "python3"
  },
  "language_info": {
   "codemirror_mode": {
    "name": "ipython",
    "version": 3
   },
   "file_extension": ".py",
   "mimetype": "text/x-python",
   "name": "python",
   "nbconvert_exporter": "python",
   "pygments_lexer": "ipython3",
   "version": "3.7.1"
  }
 },
 "nbformat": 4,
 "nbformat_minor": 2
}
